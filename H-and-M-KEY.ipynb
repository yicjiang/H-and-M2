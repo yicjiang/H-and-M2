{
 "cells": [
  {
   "cell_type": "markdown",
   "id": "8a213228-4ee1-4c14-b6e4-75a211c155b4",
   "metadata": {},
   "source": [
    "## Download the Kaggle Dataset\n",
    "[H&M Personalized Fashion Recommendations](https://www.kaggle.com/competitions/h-and-m-personalized-fashion-recommendations/overview)"
   ]
  },
  {
   "cell_type": "code",
   "execution_count": 3,
   "id": "52fbb6a4-9106-44d4-8c4c-b7a252fa1d5d",
   "metadata": {},
   "outputs": [],
   "source": [
    "# Install opendatasets\n",
    "!pip -q install opendatasets\n",
    "## -q represents the quit, not printing out thing when installing the library\n",
    "import opendatasets as od\n",
    "\n",
    "import os\n",
    "import random\n",
    "import matplotlib.pyplot as plt\n",
    "from PIL import Image"
   ]
  },
  {
   "cell_type": "markdown",
   "id": "bcb3cdbe-d266-4e12-a9f4-ee9a1f9258a8",
   "metadata": {},
   "source": [
    "1. Kaggle username can be found in the **Account** tab of the **Your Profile** section.\n",
    "2. Under the **Account** tab of the **Your Profile** section and click on **Create New API Token**. This will download a kaggle.json file."
   ]
  },
  {
   "cell_type": "code",
   "execution_count": 4,
   "id": "f71f5e68-50c8-4595-97cb-40b3837475c3",
   "metadata": {},
   "outputs": [
    {
     "name": "stdout",
     "output_type": "stream",
     "text": [
      "Skipping, found downloaded files in \"./h-and-m-personalized-fashion-recommendations\" (use force=True to force download)\n"
     ]
    }
   ],
   "source": [
    "od.download(\"https://www.kaggle.com/competitions/h-and-m-personalized-fashion-recommendations/data\")"
   ]
  },
  {
   "cell_type": "code",
   "execution_count": 5,
   "id": "df431e2d-f209-4973-aab8-75cbdd9d91d9",
   "metadata": {},
   "outputs": [
    {
     "name": "stdout",
     "output_type": "stream",
     "text": [
      "total 29G\n",
      "drwxr-xr-x  3 jupyter jupyter 4.0K Oct  5 17:12 .\n",
      "drwxr-xr-x  5 jupyter jupyter 4.0K Oct  5 17:25 ..\n",
      "-rw-r--r--  1 jupyter jupyter  35M Oct  5 17:12 articles.csv\n",
      "-rw-r--r--  1 jupyter jupyter 198M Oct  5 17:12 customers.csv\n",
      "-rw-r--r--  1 jupyter jupyter  29G Oct  5 17:12 h-and-m-personalized-fashion-recommendations.zip\n",
      "drwxr-xr-x 59 jupyter jupyter 4.0K Oct  5 17:24 images\n"
     ]
    }
   ],
   "source": [
    "!ls -lah h-and-m-personalized-fashion-recommendations"
   ]
  },
  {
   "cell_type": "markdown",
   "id": "11923301-4add-4a34-b730-166361aab7ca",
   "metadata": {},
   "source": [
    "### Copy the data files (*.csv) to your bucket:\n",
    "Modify the bucket name to yours..."
   ]
  },
  {
   "cell_type": "code",
   "execution_count": 6,
   "id": "ce2ee7b3-813c-40f4-bce6-30bbc9685a09",
   "metadata": {},
   "outputs": [
    {
     "name": "stdout",
     "output_type": "stream",
     "text": [
      "Copying file://h-and-m-personalized-fashion-recommendations/articles.csv [Content-Type=text/csv]...\n",
      "Copying file://h-and-m-personalized-fashion-recommendations/customers.csv [Content-Type=text/csv]...\n",
      "==> NOTE: You are uploading one or more large file(s), which would run          \n",
      "significantly faster if you enable parallel composite uploads. This\n",
      "feature can be enabled by editing the\n",
      "\"parallel_composite_upload_threshold\" value in your .boto\n",
      "configuration file. However, note that if you do this large files will\n",
      "be uploaded as `composite objects\n",
      "<https://cloud.google.com/storage/docs/composite-objects>`_,which\n",
      "means that any user who downloads such objects will need to have a\n",
      "compiled crcmod installed (see \"gsutil help crcmod\"). This is because\n",
      "without a compiled crcmod, computing checksums on composite objects is\n",
      "so slow that gsutil disables downloads of composite objects.\n",
      "\n",
      "- [2/2 files][232.0 MiB/232.0 MiB] 100% Done                                    \n",
      "Operation completed over 2 objects/232.0 MiB.                                    \n"
     ]
    }
   ],
   "source": [
    "!gsutil -m cp h-and-m-personalized-fashion-recommendations/*.csv gs://ba-775-vj/data/h_and_m"
   ]
  },
  {
   "cell_type": "code",
   "execution_count": 8,
   "id": "4e3b540e-5ee9-4b04-ae55-878d544d145c",
   "metadata": {},
   "outputs": [
    {
     "name": "stdout",
     "output_type": "stream",
     "text": [
      "Copying gs://ba-775-vj/data/h_and_m/customers.csv [Content-Type=text/csv]...\n",
      "Copying gs://ba-775-vj/data/h_and_m/articles.csv [Content-Type=text/csv]...\n",
      "Copying gs://ba-775-vj/data/h_and_m/transactions_train.csv [Content-Type=text/csv]...\n",
      "/ [3/3 files][  3.5 GiB/  3.5 GiB] 100% Done                                    \n",
      "Operation completed over 3 objects/3.5 GiB.                                      \n"
     ]
    }
   ],
   "source": [
    "# If you weren't able to download the data from Kaggle you can uncomment the line below and update your bucket name:\n",
    "!gsutil -m cp gs://ba-775-vj/data/h_and_m/*.csv gs://ba-775-vj/h_and_m/"
   ]
  },
  {
   "cell_type": "markdown",
   "id": "d9fd1ecc-ca54-465b-8d4e-7ebe91bb2ecd",
   "metadata": {},
   "source": [
    "Replace `ba-775-public` with your own bucket name:"
   ]
  },
  {
   "cell_type": "markdown",
   "id": "bf8b755c-4f50-4d2f-a116-15a8348271cd",
   "metadata": {},
   "source": [
    "Backup Plan"
   ]
  },
  {
   "cell_type": "code",
   "execution_count": 10,
   "id": "2be9c423-9dfc-436f-a89a-031b961876e2",
   "metadata": {},
   "outputs": [
    {
     "name": "stdout",
     "output_type": "stream",
     "text": [
      "Copying gs://ba-775-public/data/h_and_m/customers.csv [Content-Type=text/csv]...\n",
      "/ [1/1 files][197.5 MiB/197.5 MiB] 100% Done                                    \n",
      "Operation completed over 1 objects/197.5 MiB.                                    \n",
      "Copying gs://ba-775-public/data/h_and_m/articles.csv [Content-Type=text/csv]...\n",
      "/ [1/1 files][ 34.4 MiB/ 34.4 MiB] 100% Done                                    \n",
      "Operation completed over 1 objects/34.4 MiB.                                     \n",
      "AccessDeniedException: 403 591269071335-compute@developer.gserviceaccount.com does not have storage.objects.list access to the Google Cloud Storage bucket.\n",
      "CommandException: 1 file/object could not be transferred.\n"
     ]
    }
   ],
   "source": [
    "!gsutil -m cp gs://ba-775-public/data/h_and_m/customers.csv gs://ba-775-vj/h_and_m/\n",
    "!gsutil -m cp gs://ba-775-public/data/h_and_m/articles.csv gs://ba-775-vj/h_and_m/\n",
    "!gsutil -m cp gs://ba-775-public/data/h_and_m/transactions.csv gs://ba-775-vj/h_and_m/"
   ]
  },
  {
   "cell_type": "code",
   "execution_count": 11,
   "id": "3ab6f976-013b-4f8e-a937-b5954b249598",
   "metadata": {},
   "outputs": [
    {
     "name": "stdout",
     "output_type": "stream",
     "text": [
      "gs://ba-775-vj/data/h_and_m/articles.csv\n",
      "gs://ba-775-vj/data/h_and_m/customers.csv\n",
      "gs://ba-775-vj/data/h_and_m/transactions_train.csv\n"
     ]
    }
   ],
   "source": [
    "!gsutil ls gs://ba-775-vj/data/h_and_m/"
   ]
  },
  {
   "cell_type": "markdown",
   "id": "35d9bb64-5be3-448e-aac2-f24de8259fa5",
   "metadata": {},
   "source": [
    "Create a new dataset (schema) called `h_and_m`:"
   ]
  },
  {
   "cell_type": "code",
   "execution_count": 13,
   "id": "24c20251-c8ab-44c2-915f-0f07cb435171",
   "metadata": {},
   "outputs": [
    {
     "name": "stderr",
     "output_type": "stream",
     "text": [
      "Query complete after 0.00s: 100%|██████████| 1/1 [00:00<00:00, 989.69query/s] \n"
     ]
    },
    {
     "data": {
      "text/html": [
       "<div>\n",
       "<style scoped>\n",
       "    .dataframe tbody tr th:only-of-type {\n",
       "        vertical-align: middle;\n",
       "    }\n",
       "\n",
       "    .dataframe tbody tr th {\n",
       "        vertical-align: top;\n",
       "    }\n",
       "\n",
       "    .dataframe thead th {\n",
       "        text-align: right;\n",
       "    }\n",
       "</style>\n",
       "<table border=\"1\" class=\"dataframe\">\n",
       "  <thead>\n",
       "    <tr style=\"text-align: right;\">\n",
       "      <th></th>\n",
       "    </tr>\n",
       "  </thead>\n",
       "  <tbody>\n",
       "  </tbody>\n",
       "</table>\n",
       "</div>"
      ],
      "text/plain": [
       "Empty DataFrame\n",
       "Columns: []\n",
       "Index: []"
      ]
     },
     "execution_count": 13,
     "metadata": {},
     "output_type": "execute_result"
    }
   ],
   "source": [
    "%%bigquery\n",
    "CREATE SCHEMA IF NOT EXISTS h_and_m"
   ]
  },
  {
   "cell_type": "markdown",
   "id": "22270e0f-34bd-4a3e-86d3-7e584cb922fa",
   "metadata": {},
   "source": [
    "Create 3 tables from the 3 csv files: `articles.csv`, `customers.csv`, and `transactions_train.csv`. Make sure to replace `ba-775-public` with your own bucket name."
   ]
  },
  {
   "cell_type": "code",
   "execution_count": 17,
   "id": "beaee797-c66e-4480-a5b7-e9e24c115554",
   "metadata": {},
   "outputs": [
    {
     "name": "stderr",
     "output_type": "stream",
     "text": [
      "Query complete after 0.00s: 100%|██████████| 1/1 [00:00<00:00, 538.21query/s]                          \n"
     ]
    },
    {
     "data": {
      "text/html": [
       "<div>\n",
       "<style scoped>\n",
       "    .dataframe tbody tr th:only-of-type {\n",
       "        vertical-align: middle;\n",
       "    }\n",
       "\n",
       "    .dataframe tbody tr th {\n",
       "        vertical-align: top;\n",
       "    }\n",
       "\n",
       "    .dataframe thead th {\n",
       "        text-align: right;\n",
       "    }\n",
       "</style>\n",
       "<table border=\"1\" class=\"dataframe\">\n",
       "  <thead>\n",
       "    <tr style=\"text-align: right;\">\n",
       "      <th></th>\n",
       "    </tr>\n",
       "  </thead>\n",
       "  <tbody>\n",
       "  </tbody>\n",
       "</table>\n",
       "</div>"
      ],
      "text/plain": [
       "Empty DataFrame\n",
       "Columns: []\n",
       "Index: []"
      ]
     },
     "execution_count": 17,
     "metadata": {},
     "output_type": "execute_result"
    }
   ],
   "source": [
    "%%bigquery\n",
    "LOAD DATA OVERWRITE h_and_m.articles\n",
    "FROM FILES (\n",
    "  format = 'CSV',\n",
    "  uris = ['gs://ba-775-public/data/h_and_m/articles.csv']);"
   ]
  },
  {
   "cell_type": "code",
   "execution_count": 20,
   "id": "199db1af-6b05-4869-873f-0b0f8b95d75e",
   "metadata": {},
   "outputs": [
    {
     "name": "stderr",
     "output_type": "stream",
     "text": [
      "Query complete after 0.00s: 100%|██████████| 1/1 [00:00<00:00, 397.41query/s]                          \n"
     ]
    },
    {
     "data": {
      "text/html": [
       "<div>\n",
       "<style scoped>\n",
       "    .dataframe tbody tr th:only-of-type {\n",
       "        vertical-align: middle;\n",
       "    }\n",
       "\n",
       "    .dataframe tbody tr th {\n",
       "        vertical-align: top;\n",
       "    }\n",
       "\n",
       "    .dataframe thead th {\n",
       "        text-align: right;\n",
       "    }\n",
       "</style>\n",
       "<table border=\"1\" class=\"dataframe\">\n",
       "  <thead>\n",
       "    <tr style=\"text-align: right;\">\n",
       "      <th></th>\n",
       "    </tr>\n",
       "  </thead>\n",
       "  <tbody>\n",
       "  </tbody>\n",
       "</table>\n",
       "</div>"
      ],
      "text/plain": [
       "Empty DataFrame\n",
       "Columns: []\n",
       "Index: []"
      ]
     },
     "execution_count": 20,
     "metadata": {},
     "output_type": "execute_result"
    }
   ],
   "source": [
    "%%bigquery\n",
    "LOAD DATA OVERWRITE h_and_m.customers\n",
    "FROM FILES (\n",
    "  format = 'CSV',\n",
    "  uris = ['gs://ba-775-public/data/h_and_m/customers.csv']);"
   ]
  },
  {
   "cell_type": "markdown",
   "id": "0f74ab28-5ac3-4041-a07a-6313f7c59198",
   "metadata": {},
   "source": [
    "We'll save `transactions_train.csv` as `transactions`:"
   ]
  },
  {
   "cell_type": "code",
   "execution_count": 21,
   "id": "c6793251-4d41-448d-b5ac-c5e97f8555cf",
   "metadata": {},
   "outputs": [
    {
     "name": "stderr",
     "output_type": "stream",
     "text": [
      "Query complete after 0.00s: 100%|██████████| 3/3 [00:00<00:00, 1158.33query/s]                        \n"
     ]
    },
    {
     "data": {
      "text/html": [
       "<div>\n",
       "<style scoped>\n",
       "    .dataframe tbody tr th:only-of-type {\n",
       "        vertical-align: middle;\n",
       "    }\n",
       "\n",
       "    .dataframe tbody tr th {\n",
       "        vertical-align: top;\n",
       "    }\n",
       "\n",
       "    .dataframe thead th {\n",
       "        text-align: right;\n",
       "    }\n",
       "</style>\n",
       "<table border=\"1\" class=\"dataframe\">\n",
       "  <thead>\n",
       "    <tr style=\"text-align: right;\">\n",
       "      <th></th>\n",
       "    </tr>\n",
       "  </thead>\n",
       "  <tbody>\n",
       "  </tbody>\n",
       "</table>\n",
       "</div>"
      ],
      "text/plain": [
       "Empty DataFrame\n",
       "Columns: []\n",
       "Index: []"
      ]
     },
     "execution_count": 21,
     "metadata": {},
     "output_type": "execute_result"
    }
   ],
   "source": [
    "%%bigquery\n",
    "LOAD DATA OVERWRITE h_and_m.transactions\n",
    "FROM FILES (\n",
    "  format = 'CSV',\n",
    "  uris = ['gs://ba-775-public/data/h_and_m/transactions_train.csv']);"
   ]
  },
  {
   "cell_type": "markdown",
   "id": "6c1a352a-8dee-484d-96e6-bc9b5949fcdb",
   "metadata": {},
   "source": [
    "Since `transactions` table has over 31 million rows (and almost 3GB) we will create a random sample of approximately 1% of this table and work with that during our initial exploration to save cost and improve performance:"
   ]
  },
  {
   "cell_type": "code",
   "execution_count": 26,
   "id": "371fbc56-8b98-4736-a93d-c2140ff603a0",
   "metadata": {},
   "outputs": [
    {
     "name": "stderr",
     "output_type": "stream",
     "text": [
      "Query complete after 0.00s: 100%|██████████| 3/3 [00:00<00:00, 701.51query/s]                         \n"
     ]
    },
    {
     "data": {
      "text/html": [
       "<div>\n",
       "<style scoped>\n",
       "    .dataframe tbody tr th:only-of-type {\n",
       "        vertical-align: middle;\n",
       "    }\n",
       "\n",
       "    .dataframe tbody tr th {\n",
       "        vertical-align: top;\n",
       "    }\n",
       "\n",
       "    .dataframe thead th {\n",
       "        text-align: right;\n",
       "    }\n",
       "</style>\n",
       "<table border=\"1\" class=\"dataframe\">\n",
       "  <thead>\n",
       "    <tr style=\"text-align: right;\">\n",
       "      <th></th>\n",
       "    </tr>\n",
       "  </thead>\n",
       "  <tbody>\n",
       "  </tbody>\n",
       "</table>\n",
       "</div>"
      ],
      "text/plain": [
       "Empty DataFrame\n",
       "Columns: []\n",
       "Index: []"
      ]
     },
     "execution_count": 26,
     "metadata": {},
     "output_type": "execute_result"
    }
   ],
   "source": [
    "%%bigquery\n",
    "## what does this query do? This function takes any string give large unique integer(negative or positive, reproduceable)\n",
    "## Abs value, gonna be 1% of data customer to keep\n",
    "\n",
    "CREATE OR REPLACE TABLE h_and_m.transactions_sample \n",
    "AS\n",
    "SELECT * FROM h_and_m.transactions\n",
    "WHERE MOD(ABS(FARM_FINGERPRINT(customer_id)),100) = 1"
   ]
  },
  {
   "cell_type": "markdown",
   "id": "9ddca1dc-20d9-46ac-a9ac-5e2773c7e271",
   "metadata": {
    "tags": []
   },
   "source": [
    "## Exploring the `articles` table"
   ]
  },
  {
   "cell_type": "code",
   "execution_count": 27,
   "id": "a8f8cc17-7270-49d4-965e-55f350e09124",
   "metadata": {},
   "outputs": [
    {
     "name": "stderr",
     "output_type": "stream",
     "text": [
      "Query complete after 0.00s: 100%|██████████| 1/1 [00:00<00:00, 427.34query/s] \n",
      "Downloading: 100%|██████████| 3/3 [00:01<00:00,  1.93rows/s]\n"
     ]
    },
    {
     "data": {
      "text/html": [
       "<div>\n",
       "<style scoped>\n",
       "    .dataframe tbody tr th:only-of-type {\n",
       "        vertical-align: middle;\n",
       "    }\n",
       "\n",
       "    .dataframe tbody tr th {\n",
       "        vertical-align: top;\n",
       "    }\n",
       "\n",
       "    .dataframe thead th {\n",
       "        text-align: right;\n",
       "    }\n",
       "</style>\n",
       "<table border=\"1\" class=\"dataframe\">\n",
       "  <thead>\n",
       "    <tr style=\"text-align: right;\">\n",
       "      <th></th>\n",
       "      <th>article_id</th>\n",
       "      <th>product_code</th>\n",
       "      <th>prod_name</th>\n",
       "      <th>product_type_no</th>\n",
       "      <th>product_type_name</th>\n",
       "      <th>product_group_name</th>\n",
       "      <th>graphical_appearance_no</th>\n",
       "      <th>graphical_appearance_name</th>\n",
       "      <th>colour_group_code</th>\n",
       "      <th>colour_group_name</th>\n",
       "      <th>...</th>\n",
       "      <th>department_name</th>\n",
       "      <th>index_code</th>\n",
       "      <th>index_name</th>\n",
       "      <th>index_group_no</th>\n",
       "      <th>index_group_name</th>\n",
       "      <th>section_no</th>\n",
       "      <th>section_name</th>\n",
       "      <th>garment_group_no</th>\n",
       "      <th>garment_group_name</th>\n",
       "      <th>detail_desc</th>\n",
       "    </tr>\n",
       "  </thead>\n",
       "  <tbody>\n",
       "    <tr>\n",
       "      <th>0</th>\n",
       "      <td>448831026</td>\n",
       "      <td>448831</td>\n",
       "      <td>Tom Solid</td>\n",
       "      <td>59</td>\n",
       "      <td>Swimwear bottom</td>\n",
       "      <td>Swimwear</td>\n",
       "      <td>1010016</td>\n",
       "      <td>Solid</td>\n",
       "      <td>63</td>\n",
       "      <td>Dark Purple</td>\n",
       "      <td>...</td>\n",
       "      <td>Swimwear</td>\n",
       "      <td>F</td>\n",
       "      <td>Menswear</td>\n",
       "      <td>3</td>\n",
       "      <td>Menswear</td>\n",
       "      <td>26</td>\n",
       "      <td>Men Underwear</td>\n",
       "      <td>1018</td>\n",
       "      <td>Swimwear</td>\n",
       "      <td>Short swim shorts with an elasticated drawstri...</td>\n",
       "    </tr>\n",
       "    <tr>\n",
       "      <th>1</th>\n",
       "      <td>510264001</td>\n",
       "      <td>510264</td>\n",
       "      <td>Carl covered</td>\n",
       "      <td>59</td>\n",
       "      <td>Swimwear bottom</td>\n",
       "      <td>Swimwear</td>\n",
       "      <td>1010005</td>\n",
       "      <td>Colour blocking</td>\n",
       "      <td>63</td>\n",
       "      <td>Dark Purple</td>\n",
       "      <td>...</td>\n",
       "      <td>Swimwear</td>\n",
       "      <td>F</td>\n",
       "      <td>Menswear</td>\n",
       "      <td>3</td>\n",
       "      <td>Menswear</td>\n",
       "      <td>26</td>\n",
       "      <td>Men Underwear</td>\n",
       "      <td>1018</td>\n",
       "      <td>Swimwear</td>\n",
       "      <td>Short swim shorts with an elasticated drawstri...</td>\n",
       "    </tr>\n",
       "    <tr>\n",
       "      <th>2</th>\n",
       "      <td>566941026</td>\n",
       "      <td>566941</td>\n",
       "      <td>Tom solid</td>\n",
       "      <td>59</td>\n",
       "      <td>Swimwear bottom</td>\n",
       "      <td>Swimwear</td>\n",
       "      <td>1010016</td>\n",
       "      <td>Solid</td>\n",
       "      <td>20</td>\n",
       "      <td>Other Yellow</td>\n",
       "      <td>...</td>\n",
       "      <td>Swimwear</td>\n",
       "      <td>F</td>\n",
       "      <td>Menswear</td>\n",
       "      <td>3</td>\n",
       "      <td>Menswear</td>\n",
       "      <td>26</td>\n",
       "      <td>Men Underwear</td>\n",
       "      <td>1018</td>\n",
       "      <td>Swimwear</td>\n",
       "      <td>Swim shorts in woven fabric with an elasticate...</td>\n",
       "    </tr>\n",
       "  </tbody>\n",
       "</table>\n",
       "<p>3 rows × 25 columns</p>\n",
       "</div>"
      ],
      "text/plain": [
       "   article_id  product_code     prod_name  product_type_no product_type_name  \\\n",
       "0   448831026        448831     Tom Solid               59   Swimwear bottom   \n",
       "1   510264001        510264  Carl covered               59   Swimwear bottom   \n",
       "2   566941026        566941     Tom solid               59   Swimwear bottom   \n",
       "\n",
       "  product_group_name  graphical_appearance_no graphical_appearance_name  \\\n",
       "0           Swimwear                  1010016                     Solid   \n",
       "1           Swimwear                  1010005           Colour blocking   \n",
       "2           Swimwear                  1010016                     Solid   \n",
       "\n",
       "   colour_group_code colour_group_name  ...  department_name index_code  \\\n",
       "0                 63       Dark Purple  ...         Swimwear          F   \n",
       "1                 63       Dark Purple  ...         Swimwear          F   \n",
       "2                 20      Other Yellow  ...         Swimwear          F   \n",
       "\n",
       "   index_name index_group_no  index_group_name section_no   section_name  \\\n",
       "0    Menswear              3          Menswear         26  Men Underwear   \n",
       "1    Menswear              3          Menswear         26  Men Underwear   \n",
       "2    Menswear              3          Menswear         26  Men Underwear   \n",
       "\n",
       "  garment_group_no  garment_group_name  \\\n",
       "0             1018            Swimwear   \n",
       "1             1018            Swimwear   \n",
       "2             1018            Swimwear   \n",
       "\n",
       "                                         detail_desc  \n",
       "0  Short swim shorts with an elasticated drawstri...  \n",
       "1  Short swim shorts with an elasticated drawstri...  \n",
       "2  Swim shorts in woven fabric with an elasticate...  \n",
       "\n",
       "[3 rows x 25 columns]"
      ]
     },
     "execution_count": 27,
     "metadata": {},
     "output_type": "execute_result"
    }
   ],
   "source": [
    "%%bigquery\n",
    "SELECT * FROM h_and_m.articles LIMIT 3"
   ]
  },
  {
   "cell_type": "markdown",
   "id": "f1be80a0-85bf-4ee2-9a7e-22d394d7afd8",
   "metadata": {
    "tags": []
   },
   "source": [
    "###  Display some of the images"
   ]
  },
  {
   "cell_type": "code",
   "execution_count": 25,
   "id": "7e10c69e-10fd-4438-a7a9-245180719b2a",
   "metadata": {},
   "outputs": [
    {
     "name": "stdout",
     "output_type": "stream",
     "text": [
      "Total number of files in images:  40114\n"
     ]
    },
    {
     "data": {
      "image/png": "[encoded data removed]",
      "text/plain": [
       "<Figure size 800x800 with 36 Axes>"
      ]
     },
     "metadata": {},
     "output_type": "display_data"
    }
   ],
   "source": [
    "filenames = []\n",
    "for path, subdirs, files in os.walk('h-and-m-personalized-fashion-recommendations/images'):\n",
    "    for name in files:\n",
    "        filenames.append(os.path.join(path, name))\n",
    "print('Total number of files in images: ', len(filenames))\n",
    "\n",
    "random.seed(10)\n",
    "sample_images = random.sample(filenames, 36)\n",
    "\n",
    "fig, axes = plt.subplots(6, 6, figsize=(8, 8),\n",
    "                         subplot_kw={'xticks':[], 'yticks':[]},\n",
    "                         gridspec_kw=dict(hspace=0.1, wspace=0.4))\n",
    "\n",
    "for i, ax in enumerate(axes.flat):\n",
    "    ax.imshow(Image.open(sample_images[i]).resize((180, 180)))\n",
    "    #ax.set_title(sample_images[i]) "
   ]
  },
  {
   "cell_type": "markdown",
   "id": "69ab3235-e4a3-45b8-80da-aeb5a46ac8c7",
   "metadata": {},
   "source": [
    "How many unique articles/products/etc are in this table?"
   ]
  },
  {
   "cell_type": "code",
   "execution_count": 28,
   "id": "a181ab1c-4726-4ec8-90c6-4c93fb72176c",
   "metadata": {},
   "outputs": [
    {
     "name": "stderr",
     "output_type": "stream",
     "text": [
      "Query complete after 0.00s: 100%|██████████| 4/4 [00:00<00:00, 1213.89query/s]                        \n",
      "Downloading: 100%|██████████| 1/1 [00:01<00:00,  1.43s/rows]\n"
     ]
    },
    {
     "data": {
      "text/html": [
       "<div>\n",
       "<style scoped>\n",
       "    .dataframe tbody tr th:only-of-type {\n",
       "        vertical-align: middle;\n",
       "    }\n",
       "\n",
       "    .dataframe tbody tr th {\n",
       "        vertical-align: top;\n",
       "    }\n",
       "\n",
       "    .dataframe thead th {\n",
       "        text-align: right;\n",
       "    }\n",
       "</style>\n",
       "<table border=\"1\" class=\"dataframe\">\n",
       "  <thead>\n",
       "    <tr style=\"text-align: right;\">\n",
       "      <th></th>\n",
       "      <th>n_rows</th>\n",
       "      <th>article_id</th>\n",
       "      <th>product_code</th>\n",
       "      <th>prod_name</th>\n",
       "      <th>product_type_no</th>\n",
       "      <th>product_type_name</th>\n",
       "      <th>product_group_name</th>\n",
       "      <th>graphical_appearance_no</th>\n",
       "      <th>graphical_appearance_name</th>\n",
       "      <th>colour_group_code</th>\n",
       "      <th>...</th>\n",
       "      <th>department_no</th>\n",
       "      <th>department_name</th>\n",
       "      <th>index_code</th>\n",
       "      <th>index_name</th>\n",
       "      <th>index_group_no</th>\n",
       "      <th>index_group_name</th>\n",
       "      <th>section_no</th>\n",
       "      <th>section_name</th>\n",
       "      <th>garment_group_no</th>\n",
       "      <th>garment_group_name</th>\n",
       "    </tr>\n",
       "  </thead>\n",
       "  <tbody>\n",
       "    <tr>\n",
       "      <th>0</th>\n",
       "      <td>105542</td>\n",
       "      <td>105542</td>\n",
       "      <td>47224</td>\n",
       "      <td>45875</td>\n",
       "      <td>132</td>\n",
       "      <td>131</td>\n",
       "      <td>19</td>\n",
       "      <td>30</td>\n",
       "      <td>30</td>\n",
       "      <td>50</td>\n",
       "      <td>...</td>\n",
       "      <td>299</td>\n",
       "      <td>250</td>\n",
       "      <td>10</td>\n",
       "      <td>10</td>\n",
       "      <td>5</td>\n",
       "      <td>5</td>\n",
       "      <td>57</td>\n",
       "      <td>56</td>\n",
       "      <td>21</td>\n",
       "      <td>21</td>\n",
       "    </tr>\n",
       "  </tbody>\n",
       "</table>\n",
       "<p>1 rows × 21 columns</p>\n",
       "</div>"
      ],
      "text/plain": [
       "   n_rows  article_id  product_code  prod_name  product_type_no  \\\n",
       "0  105542      105542         47224      45875              132   \n",
       "\n",
       "   product_type_name  product_group_name  graphical_appearance_no  \\\n",
       "0                131                  19                       30   \n",
       "\n",
       "   graphical_appearance_name  colour_group_code  ...  department_no  \\\n",
       "0                         30                 50  ...            299   \n",
       "\n",
       "   department_name  index_code  index_name  index_group_no  index_group_name  \\\n",
       "0              250          10          10               5                 5   \n",
       "\n",
       "   section_no  section_name  garment_group_no  garment_group_name  \n",
       "0          57            56                21                  21  \n",
       "\n",
       "[1 rows x 21 columns]"
      ]
     },
     "execution_count": 28,
     "metadata": {},
     "output_type": "execute_result"
    }
   ],
   "source": [
    "%%bigquery\n",
    "SELECT\n",
    "  COUNT(*) AS n_rows,\n",
    "  COUNT(DISTINCT article_id) AS article_id, \n",
    "  COUNT(DISTINCT product_code) AS product_code,\n",
    "  COUNT(DISTINCT prod_name) AS prod_name,\n",
    "  COUNT(DISTINCT product_type_no) AS product_type_no,\n",
    "  COUNT(DISTINCT product_type_name) AS product_type_name,\n",
    "  COUNT(DISTINCT product_group_name) AS product_group_name,\n",
    "  COUNT(DISTINCT graphical_appearance_no) AS graphical_appearance_no,\n",
    "  COUNT(DISTINCT graphical_appearance_name) AS graphical_appearance_name,\n",
    "  COUNT(DISTINCT colour_group_code) AS colour_group_code,\n",
    "  COUNT(DISTINCT colour_group_name) AS colour_group_name,\n",
    "  COUNT(DISTINCT department_no) AS department_no,\n",
    "  COUNT(DISTINCT department_name) AS department_name,\n",
    "  COUNT(DISTINCT index_code) AS index_code,\n",
    "  COUNT(DISTINCT index_name) AS index_name,\n",
    "  COUNT(DISTINCT index_group_no) AS index_group_no,\n",
    "  COUNT(DISTINCT index_group_name) AS index_group_name,\n",
    "  COUNT(DISTINCT section_no) AS section_no,\n",
    "  COUNT(DISTINCT section_name) AS section_name,\n",
    "  COUNT(DISTINCT garment_group_no) AS garment_group_no,\n",
    "  COUNT(DISTINCT garment_group_name) AS garment_group_name\n",
    "FROM h_and_m.articles"
   ]
  },
  {
   "cell_type": "markdown",
   "id": "a3e34d80-78bc-418f-bb09-3266b0c35426",
   "metadata": {},
   "source": [
    "Can you investigate and figure out what the difference between `article_id` and `product_code` is?"
   ]
  },
  {
   "cell_type": "code",
   "execution_count": 30,
   "id": "fc61be81-0146-4e85-b9c8-fc97a2b16058",
   "metadata": {},
   "outputs": [
    {
     "name": "stderr",
     "output_type": "stream",
     "text": [
      "Query complete after 0.00s: 100%|██████████| 1/1 [00:00<00:00, 430.23query/s] \n",
      "Downloading: 100%|██████████| 47224/47224 [00:01<00:00, 43057.14rows/s]\n"
     ]
    },
    {
     "data": {
      "text/html": [
       "<div>\n",
       "<style scoped>\n",
       "    .dataframe tbody tr th:only-of-type {\n",
       "        vertical-align: middle;\n",
       "    }\n",
       "\n",
       "    .dataframe tbody tr th {\n",
       "        vertical-align: top;\n",
       "    }\n",
       "\n",
       "    .dataframe thead th {\n",
       "        text-align: right;\n",
       "    }\n",
       "</style>\n",
       "<table border=\"1\" class=\"dataframe\">\n",
       "  <thead>\n",
       "    <tr style=\"text-align: right;\">\n",
       "      <th></th>\n",
       "      <th>product_code</th>\n",
       "      <th>n_articles</th>\n",
       "    </tr>\n",
       "  </thead>\n",
       "  <tbody>\n",
       "    <tr>\n",
       "      <th>0</th>\n",
       "      <td>783707</td>\n",
       "      <td>75</td>\n",
       "    </tr>\n",
       "    <tr>\n",
       "      <th>1</th>\n",
       "      <td>684021</td>\n",
       "      <td>70</td>\n",
       "    </tr>\n",
       "    <tr>\n",
       "      <th>2</th>\n",
       "      <td>699923</td>\n",
       "      <td>52</td>\n",
       "    </tr>\n",
       "    <tr>\n",
       "      <th>3</th>\n",
       "      <td>699755</td>\n",
       "      <td>49</td>\n",
       "    </tr>\n",
       "    <tr>\n",
       "      <th>4</th>\n",
       "      <td>685604</td>\n",
       "      <td>46</td>\n",
       "    </tr>\n",
       "    <tr>\n",
       "      <th>...</th>\n",
       "      <td>...</td>\n",
       "      <td>...</td>\n",
       "    </tr>\n",
       "    <tr>\n",
       "      <th>47219</th>\n",
       "      <td>595949</td>\n",
       "      <td>1</td>\n",
       "    </tr>\n",
       "    <tr>\n",
       "      <th>47220</th>\n",
       "      <td>644071</td>\n",
       "      <td>1</td>\n",
       "    </tr>\n",
       "    <tr>\n",
       "      <th>47221</th>\n",
       "      <td>714373</td>\n",
       "      <td>1</td>\n",
       "    </tr>\n",
       "    <tr>\n",
       "      <th>47222</th>\n",
       "      <td>714376</td>\n",
       "      <td>1</td>\n",
       "    </tr>\n",
       "    <tr>\n",
       "      <th>47223</th>\n",
       "      <td>607324</td>\n",
       "      <td>1</td>\n",
       "    </tr>\n",
       "  </tbody>\n",
       "</table>\n",
       "<p>47224 rows × 2 columns</p>\n",
       "</div>"
      ],
      "text/plain": [
       "       product_code  n_articles\n",
       "0            783707          75\n",
       "1            684021          70\n",
       "2            699923          52\n",
       "3            699755          49\n",
       "4            685604          46\n",
       "...             ...         ...\n",
       "47219        595949           1\n",
       "47220        644071           1\n",
       "47221        714373           1\n",
       "47222        714376           1\n",
       "47223        607324           1\n",
       "\n",
       "[47224 rows x 2 columns]"
      ]
     },
     "execution_count": 30,
     "metadata": {},
     "output_type": "execute_result"
    }
   ],
   "source": [
    "%%bigquery\n",
    "SELECT \n",
    "  product_code, count(DISTINCT article_id) n_articles\n",
    "FROM h_and_m.articles\n",
    "GROUP BY product_code\n",
    "ORDER BY n_articles DESC"
   ]
  },
  {
   "cell_type": "code",
   "execution_count": 31,
   "id": "74f07a47-82d4-4950-b3c6-929251317875",
   "metadata": {},
   "outputs": [
    {
     "name": "stderr",
     "output_type": "stream",
     "text": [
      "Query complete after 0.00s: 100%|██████████| 4/4 [00:00<00:00, 1300.46query/s]                        \n",
      "Downloading: 100%|██████████| 1/1 [00:01<00:00,  1.60s/rows]\n"
     ]
    },
    {
     "data": {
      "text/html": [
       "<div>\n",
       "<style scoped>\n",
       "    .dataframe tbody tr th:only-of-type {\n",
       "        vertical-align: middle;\n",
       "    }\n",
       "\n",
       "    .dataframe tbody tr th {\n",
       "        vertical-align: top;\n",
       "    }\n",
       "\n",
       "    .dataframe thead th {\n",
       "        text-align: right;\n",
       "    }\n",
       "</style>\n",
       "<table border=\"1\" class=\"dataframe\">\n",
       "  <thead>\n",
       "    <tr style=\"text-align: right;\">\n",
       "      <th></th>\n",
       "      <th>n_rows</th>\n",
       "      <th>article_id</th>\n",
       "      <th>product_code</th>\n",
       "      <th>prod_name</th>\n",
       "      <th>product_type_no</th>\n",
       "      <th>product_type_name</th>\n",
       "      <th>product_group_name</th>\n",
       "      <th>graphical_appearance_no</th>\n",
       "      <th>graphical_appearance_name</th>\n",
       "      <th>colour_group_code</th>\n",
       "      <th>...</th>\n",
       "      <th>department_no</th>\n",
       "      <th>department_name</th>\n",
       "      <th>index_code</th>\n",
       "      <th>index_name</th>\n",
       "      <th>index_group_no</th>\n",
       "      <th>index_group_name</th>\n",
       "      <th>section_no</th>\n",
       "      <th>section_name</th>\n",
       "      <th>garment_group_no</th>\n",
       "      <th>garment_group_name</th>\n",
       "    </tr>\n",
       "  </thead>\n",
       "  <tbody>\n",
       "    <tr>\n",
       "      <th>0</th>\n",
       "      <td>75</td>\n",
       "      <td>75</td>\n",
       "      <td>1</td>\n",
       "      <td>3</td>\n",
       "      <td>1</td>\n",
       "      <td>1</td>\n",
       "      <td>1</td>\n",
       "      <td>3</td>\n",
       "      <td>3</td>\n",
       "      <td>23</td>\n",
       "      <td>...</td>\n",
       "      <td>1</td>\n",
       "      <td>1</td>\n",
       "      <td>1</td>\n",
       "      <td>1</td>\n",
       "      <td>1</td>\n",
       "      <td>1</td>\n",
       "      <td>1</td>\n",
       "      <td>1</td>\n",
       "      <td>1</td>\n",
       "      <td>1</td>\n",
       "    </tr>\n",
       "  </tbody>\n",
       "</table>\n",
       "<p>1 rows × 21 columns</p>\n",
       "</div>"
      ],
      "text/plain": [
       "   n_rows  article_id  product_code  prod_name  product_type_no  \\\n",
       "0      75          75             1          3                1   \n",
       "\n",
       "   product_type_name  product_group_name  graphical_appearance_no  \\\n",
       "0                  1                   1                        3   \n",
       "\n",
       "   graphical_appearance_name  colour_group_code  ...  department_no  \\\n",
       "0                          3                 23  ...              1   \n",
       "\n",
       "   department_name  index_code  index_name  index_group_no  index_group_name  \\\n",
       "0                1           1           1               1                 1   \n",
       "\n",
       "   section_no  section_name  garment_group_no  garment_group_name  \n",
       "0           1             1                 1                   1  \n",
       "\n",
       "[1 rows x 21 columns]"
      ]
     },
     "execution_count": 31,
     "metadata": {},
     "output_type": "execute_result"
    }
   ],
   "source": [
    "%%bigquery\n",
    "SELECT\n",
    "  COUNT(*) AS n_rows,\n",
    "  COUNT(DISTINCT article_id) AS article_id, \n",
    "  COUNT(DISTINCT product_code) AS product_code,\n",
    "  COUNT(DISTINCT prod_name) AS prod_name,\n",
    "  COUNT(DISTINCT product_type_no) AS product_type_no,\n",
    "  COUNT(DISTINCT product_type_name) AS product_type_name,\n",
    "  COUNT(DISTINCT product_group_name) AS product_group_name,\n",
    "  COUNT(DISTINCT graphical_appearance_no) AS graphical_appearance_no,\n",
    "  COUNT(DISTINCT graphical_appearance_name) AS graphical_appearance_name,\n",
    "  COUNT(DISTINCT colour_group_code) AS colour_group_code,\n",
    "  COUNT(DISTINCT colour_group_name) AS colour_group_name,\n",
    "  COUNT(DISTINCT department_no) AS department_no,\n",
    "  COUNT(DISTINCT department_name) AS department_name,\n",
    "  COUNT(DISTINCT index_code) AS index_code,\n",
    "  COUNT(DISTINCT index_name) AS index_name,\n",
    "  COUNT(DISTINCT index_group_no) AS index_group_no,\n",
    "  COUNT(DISTINCT index_group_name) AS index_group_name,\n",
    "  COUNT(DISTINCT section_no) AS section_no,\n",
    "  COUNT(DISTINCT section_name) AS section_name,\n",
    "  COUNT(DISTINCT garment_group_no) AS garment_group_no,\n",
    "  COUNT(DISTINCT garment_group_name) AS garment_group_name\n",
    "FROM h_and_m.articles\n",
    "WHERE product_code = 783707"
   ]
  },
  {
   "cell_type": "code",
   "execution_count": 32,
   "id": "a31e91f6-8df6-4912-8701-4553696551e6",
   "metadata": {},
   "outputs": [
    {
     "name": "stderr",
     "output_type": "stream",
     "text": [
      "Query complete after 0.00s: 100%|██████████| 4/4 [00:00<00:00, 2079.73query/s]                        \n",
      "Downloading: 100%|██████████| 1/1 [00:01<00:00,  1.50s/rows]\n"
     ]
    },
    {
     "data": {
      "text/html": [
       "<div>\n",
       "<style scoped>\n",
       "    .dataframe tbody tr th:only-of-type {\n",
       "        vertical-align: middle;\n",
       "    }\n",
       "\n",
       "    .dataframe tbody tr th {\n",
       "        vertical-align: top;\n",
       "    }\n",
       "\n",
       "    .dataframe thead th {\n",
       "        text-align: right;\n",
       "    }\n",
       "</style>\n",
       "<table border=\"1\" class=\"dataframe\">\n",
       "  <thead>\n",
       "    <tr style=\"text-align: right;\">\n",
       "      <th></th>\n",
       "      <th>prod_name</th>\n",
       "      <th>graphical_appearance_no</th>\n",
       "      <th>graphical_appearance_name</th>\n",
       "      <th>colour_group_code</th>\n",
       "      <th>colour_group_name</th>\n",
       "      <th>n_detail_desc</th>\n",
       "    </tr>\n",
       "  </thead>\n",
       "  <tbody>\n",
       "    <tr>\n",
       "      <th>0</th>\n",
       "      <td>1pk Fun 1,1pk Fun,1pk fun sock</td>\n",
       "      <td>1010001,1010022,1010014</td>\n",
       "      <td>All over pattern,Jacquard,Placement print</td>\n",
       "      <td>82,63,83,62,6,7,8,9,10,13,19,21,32,33,42,52,61...</td>\n",
       "      <td>Turquoise,Dark Purple,Dark Turquoise,Purple,Li...</td>\n",
       "      <td>1</td>\n",
       "    </tr>\n",
       "  </tbody>\n",
       "</table>\n",
       "</div>"
      ],
      "text/plain": [
       "                        prod_name  graphical_appearance_no  \\\n",
       "0  1pk Fun 1,1pk Fun,1pk fun sock  1010001,1010022,1010014   \n",
       "\n",
       "                   graphical_appearance_name  \\\n",
       "0  All over pattern,Jacquard,Placement print   \n",
       "\n",
       "                                   colour_group_code  \\\n",
       "0  82,63,83,62,6,7,8,9,10,13,19,21,32,33,42,52,61...   \n",
       "\n",
       "                                   colour_group_name  n_detail_desc  \n",
       "0  Turquoise,Dark Purple,Dark Turquoise,Purple,Li...              1  "
      ]
     },
     "execution_count": 32,
     "metadata": {},
     "output_type": "execute_result"
    }
   ],
   "source": [
    "%%bigquery\n",
    "SELECT\n",
    "  STRING_AGG(DISTINCT prod_name) prod_name,\n",
    "  STRING_AGG(DISTINCT CAST(graphical_appearance_no AS STRING)) graphical_appearance_no,\n",
    "  STRING_AGG(DISTINCT graphical_appearance_name) graphical_appearance_name,\n",
    "  STRING_AGG(DISTINCT CAST(colour_group_code AS STRING)) colour_group_code,\n",
    "  STRING_AGG(DISTINCT colour_group_name) colour_group_name,\n",
    "  COUNT(DISTINCT detail_desc) AS n_detail_desc\n",
    "FROM h_and_m.articles\n",
    "WHERE product_code = 783707"
   ]
  },
  {
   "cell_type": "code",
   "execution_count": 34,
   "id": "f222df9e-edf4-4c7f-bf15-f9b8ac6d2c9f",
   "metadata": {},
   "outputs": [
    {
     "data": {
      "text/plain": [
       "1"
      ]
     },
     "execution_count": 34,
     "metadata": {},
     "output_type": "execute_result"
    }
   ],
   "source": [
    "files_0783707 = !ls h-and-m-personalized-fashion-recommendations/images/078/0783707*\n",
    "len(files_0783707)"
   ]
  },
  {
   "cell_type": "code",
   "execution_count": 47,
   "id": "f97ea02c-d35e-4058-b2d7-78bf85de49d1",
   "metadata": {},
   "outputs": [
    {
     "ename": "FileNotFoundError",
     "evalue": "[Errno 2] No such file or directory: \"ls: cannot access 'h-and-m-personalized-fashion-recommendations/images/078/0783707*': No such file or directory\"",
     "output_type": "error",
     "traceback": [
      "\u001b[0;31m---------------------------------------------------------------------------\u001b[0m",
      "\u001b[0;31mFileNotFoundError\u001b[0m                         Traceback (most recent call last)",
      "\u001b[0;32m/tmp/ipykernel_7113/4174178569.py\u001b[0m in \u001b[0;36m<module>\u001b[0;34m\u001b[0m\n\u001b[1;32m      4\u001b[0m \u001b[0;34m\u001b[0m\u001b[0m\n\u001b[1;32m      5\u001b[0m \u001b[0;32mfor\u001b[0m \u001b[0mi\u001b[0m\u001b[0;34m,\u001b[0m \u001b[0max\u001b[0m \u001b[0;32min\u001b[0m \u001b[0menumerate\u001b[0m\u001b[0;34m(\u001b[0m\u001b[0maxes\u001b[0m\u001b[0;34m.\u001b[0m\u001b[0mflat\u001b[0m\u001b[0;34m)\u001b[0m\u001b[0;34m:\u001b[0m\u001b[0;34m\u001b[0m\u001b[0;34m\u001b[0m\u001b[0m\n\u001b[0;32m----> 6\u001b[0;31m     \u001b[0max\u001b[0m\u001b[0;34m.\u001b[0m\u001b[0mimshow\u001b[0m\u001b[0;34m(\u001b[0m\u001b[0mImage\u001b[0m\u001b[0;34m.\u001b[0m\u001b[0mopen\u001b[0m\u001b[0;34m(\u001b[0m\u001b[0mfiles_0783707\u001b[0m\u001b[0;34m[\u001b[0m\u001b[0mi\u001b[0m\u001b[0;34m]\u001b[0m\u001b[0;34m)\u001b[0m\u001b[0;34m.\u001b[0m\u001b[0mresize\u001b[0m\u001b[0;34m(\u001b[0m\u001b[0;34m(\u001b[0m\u001b[0;36m180\u001b[0m\u001b[0;34m,\u001b[0m \u001b[0;36m180\u001b[0m\u001b[0;34m)\u001b[0m\u001b[0;34m)\u001b[0m\u001b[0;34m)\u001b[0m\u001b[0;34m\u001b[0m\u001b[0;34m\u001b[0m\u001b[0m\n\u001b[0m\u001b[1;32m      7\u001b[0m     \u001b[0max\u001b[0m\u001b[0;34m.\u001b[0m\u001b[0mset_title\u001b[0m\u001b[0;34m(\u001b[0m\u001b[0mfiles_0783707\u001b[0m\u001b[0;34m[\u001b[0m\u001b[0mi\u001b[0m\u001b[0;34m]\u001b[0m\u001b[0;34m[\u001b[0m\u001b[0;36m56\u001b[0m\u001b[0;34m:\u001b[0m\u001b[0;34m-\u001b[0m\u001b[0;36m4\u001b[0m\u001b[0;34m]\u001b[0m\u001b[0;34m)\u001b[0m\u001b[0;34m\u001b[0m\u001b[0;34m\u001b[0m\u001b[0m\n\u001b[1;32m      8\u001b[0m     \u001b[0;32mif\u001b[0m \u001b[0mi\u001b[0m \u001b[0;34m==\u001b[0m \u001b[0mlen\u001b[0m\u001b[0;34m(\u001b[0m\u001b[0mfiles_0783707\u001b[0m\u001b[0;34m)\u001b[0m\u001b[0;34m-\u001b[0m\u001b[0;36m1\u001b[0m\u001b[0;34m:\u001b[0m\u001b[0;34m\u001b[0m\u001b[0;34m\u001b[0m\u001b[0m\n",
      "\u001b[0;32m/opt/conda/lib/python3.7/site-packages/PIL/Image.py\u001b[0m in \u001b[0;36mopen\u001b[0;34m(fp, mode, formats)\u001b[0m\n\u001b[1;32m   3090\u001b[0m \u001b[0;34m\u001b[0m\u001b[0m\n\u001b[1;32m   3091\u001b[0m     \u001b[0;32mif\u001b[0m \u001b[0mfilename\u001b[0m\u001b[0;34m:\u001b[0m\u001b[0;34m\u001b[0m\u001b[0;34m\u001b[0m\u001b[0m\n\u001b[0;32m-> 3092\u001b[0;31m         \u001b[0mfp\u001b[0m \u001b[0;34m=\u001b[0m \u001b[0mbuiltins\u001b[0m\u001b[0;34m.\u001b[0m\u001b[0mopen\u001b[0m\u001b[0;34m(\u001b[0m\u001b[0mfilename\u001b[0m\u001b[0;34m,\u001b[0m \u001b[0;34m\"rb\"\u001b[0m\u001b[0;34m)\u001b[0m\u001b[0;34m\u001b[0m\u001b[0;34m\u001b[0m\u001b[0m\n\u001b[0m\u001b[1;32m   3093\u001b[0m         \u001b[0mexclusive_fp\u001b[0m \u001b[0;34m=\u001b[0m \u001b[0;32mTrue\u001b[0m\u001b[0;34m\u001b[0m\u001b[0;34m\u001b[0m\u001b[0m\n\u001b[1;32m   3094\u001b[0m \u001b[0;34m\u001b[0m\u001b[0m\n",
      "\u001b[0;31mFileNotFoundError\u001b[0m: [Errno 2] No such file or directory: \"ls: cannot access 'h-and-m-personalized-fashion-recommendations/images/078/0783707*': No such file or directory\""
     ]
    },
    {
     "data": {
      "image/png": "[encoded data removed]",
      "text/plain": [
       "<Figure size 1400x1400 with 81 Axes>"
      ]
     },
     "metadata": {},
     "output_type": "display_data"
    }
   ],
   "source": [
    "fig, axes = plt.subplots(9, 9, figsize=(14, 14),\n",
    "                         subplot_kw={'xticks':[], 'yticks':[]},\n",
    "                         gridspec_kw=dict(hspace=0.1, wspace=0.4))\n",
    "\n",
    "for i, ax in enumerate(axes.flat):\n",
    "    ax.imshow(Image.open(files_0783707[i]).resize((180, 180)))\n",
    "    ax.set_title(files_0783707[i][56:-4]) \n",
    "    if i == len(files_0783707)-1:\n",
    "        break"
   ]
  },
  {
   "cell_type": "markdown",
   "id": "52f10ed1-eef0-4275-bab1-d6cadbe911ec",
   "metadata": {},
   "source": [
    "### What is the breakdown of `index_name`?"
   ]
  },
  {
   "cell_type": "code",
   "execution_count": null,
   "id": "45aaf9c7-5b53-43ea-83f8-144c293050de",
   "metadata": {},
   "outputs": [],
   "source": [
    "%%bigquery\n",
    "SELECT \n",
    "  index_name, count(article_id) n_articles\n",
    "FROM h_and_m.articles\n",
    "GROUP BY index_name\n",
    "ORDER BY n_articles DESC"
   ]
  },
  {
   "cell_type": "markdown",
   "id": "c17a49f6-fe0f-496a-8cee-72b0dc7d1529",
   "metadata": {},
   "source": [
    "### What is the breakdown of `index_group_name`?"
   ]
  },
  {
   "cell_type": "code",
   "execution_count": 48,
   "id": "59d14f92-ba33-42c9-8e92-c56a396e0376",
   "metadata": {},
   "outputs": [
    {
     "name": "stderr",
     "output_type": "stream",
     "text": [
      "Query complete after 0.00s: 100%|██████████| 1/1 [00:00<00:00, 608.22query/s] \n",
      "Downloading: 100%|██████████| 5/5 [00:01<00:00,  2.78rows/s]\n"
     ]
    },
    {
     "data": {
      "text/html": [
       "<div>\n",
       "<style scoped>\n",
       "    .dataframe tbody tr th:only-of-type {\n",
       "        vertical-align: middle;\n",
       "    }\n",
       "\n",
       "    .dataframe tbody tr th {\n",
       "        vertical-align: top;\n",
       "    }\n",
       "\n",
       "    .dataframe thead th {\n",
       "        text-align: right;\n",
       "    }\n",
       "</style>\n",
       "<table border=\"1\" class=\"dataframe\">\n",
       "  <thead>\n",
       "    <tr style=\"text-align: right;\">\n",
       "      <th></th>\n",
       "      <th>index_group_name</th>\n",
       "      <th>n_articles</th>\n",
       "      <th>n_index_name</th>\n",
       "      <th>index_name</th>\n",
       "      <th>n_garment_group_name</th>\n",
       "      <th>garment_group_name</th>\n",
       "    </tr>\n",
       "  </thead>\n",
       "  <tbody>\n",
       "    <tr>\n",
       "      <th>0</th>\n",
       "      <td>Ladieswear</td>\n",
       "      <td>39737</td>\n",
       "      <td>3</td>\n",
       "      <td>Ladieswear,Lingeries/Tights,Ladies Accessories</td>\n",
       "      <td>18</td>\n",
       "      <td>Unknown,Special Offers,Socks and Tights,Dresse...</td>\n",
       "    </tr>\n",
       "    <tr>\n",
       "      <th>1</th>\n",
       "      <td>Baby/Children</td>\n",
       "      <td>34711</td>\n",
       "      <td>4</td>\n",
       "      <td>Children Sizes 134-170,Children Sizes 92-140,B...</td>\n",
       "      <td>17</td>\n",
       "      <td>Dresses/Skirts girls,Jersey Fancy,Trousers,Kni...</td>\n",
       "    </tr>\n",
       "    <tr>\n",
       "      <th>2</th>\n",
       "      <td>Divided</td>\n",
       "      <td>15149</td>\n",
       "      <td>1</td>\n",
       "      <td>Divided</td>\n",
       "      <td>16</td>\n",
       "      <td>Blouses,Dresses Ladies,Unknown,Outdoor,Jersey ...</td>\n",
       "    </tr>\n",
       "    <tr>\n",
       "      <th>3</th>\n",
       "      <td>Menswear</td>\n",
       "      <td>12553</td>\n",
       "      <td>1</td>\n",
       "      <td>Menswear</td>\n",
       "      <td>16</td>\n",
       "      <td>Swimwear,Accessories,Under-, Nightwear,Dressed...</td>\n",
       "    </tr>\n",
       "    <tr>\n",
       "      <th>4</th>\n",
       "      <td>Sport</td>\n",
       "      <td>3392</td>\n",
       "      <td>1</td>\n",
       "      <td>Sport</td>\n",
       "      <td>5</td>\n",
       "      <td>Outdoor,Jersey Fancy,Accessories,Unknown,Trousers</td>\n",
       "    </tr>\n",
       "  </tbody>\n",
       "</table>\n",
       "</div>"
      ],
      "text/plain": [
       "  index_group_name  n_articles  n_index_name  \\\n",
       "0       Ladieswear       39737             3   \n",
       "1    Baby/Children       34711             4   \n",
       "2          Divided       15149             1   \n",
       "3         Menswear       12553             1   \n",
       "4            Sport        3392             1   \n",
       "\n",
       "                                          index_name  n_garment_group_name  \\\n",
       "0     Ladieswear,Lingeries/Tights,Ladies Accessories                    18   \n",
       "1  Children Sizes 134-170,Children Sizes 92-140,B...                    17   \n",
       "2                                            Divided                    16   \n",
       "3                                           Menswear                    16   \n",
       "4                                              Sport                     5   \n",
       "\n",
       "                                  garment_group_name  \n",
       "0  Unknown,Special Offers,Socks and Tights,Dresse...  \n",
       "1  Dresses/Skirts girls,Jersey Fancy,Trousers,Kni...  \n",
       "2  Blouses,Dresses Ladies,Unknown,Outdoor,Jersey ...  \n",
       "3  Swimwear,Accessories,Under-, Nightwear,Dressed...  \n",
       "4  Outdoor,Jersey Fancy,Accessories,Unknown,Trousers  "
      ]
     },
     "execution_count": 48,
     "metadata": {},
     "output_type": "execute_result"
    }
   ],
   "source": [
    "%%bigquery\n",
    "SELECT \n",
    "  index_group_name, \n",
    "  count(article_id) n_articles, \n",
    "  COUNT(DISTINCT index_name) n_index_name, STRING_AGG(DISTINCT index_name) index_name,\n",
    "  COUNT(DISTINCT garment_group_name) n_garment_group_name, STRING_AGG(DISTINCT garment_group_name) garment_group_name\n",
    "FROM h_and_m.articles\n",
    "GROUP BY index_group_name\n",
    "ORDER BY n_articles DESC"
   ]
  },
  {
   "cell_type": "code",
   "execution_count": 38,
   "id": "600d8fbc-b396-4177-813e-263ed310430e",
   "metadata": {},
   "outputs": [
    {
     "name": "stderr",
     "output_type": "stream",
     "text": [
      "Query complete after 0.01s: 100%|██████████| 3/3 [00:00<00:00, 915.65query/s]                         \n",
      "Downloading: 100%|██████████| 72/72 [00:01<00:00, 54.09rows/s]\n"
     ]
    },
    {
     "data": {
      "text/html": [
       "<div>\n",
       "<style scoped>\n",
       "    .dataframe tbody tr th:only-of-type {\n",
       "        vertical-align: middle;\n",
       "    }\n",
       "\n",
       "    .dataframe tbody tr th {\n",
       "        vertical-align: top;\n",
       "    }\n",
       "\n",
       "    .dataframe thead th {\n",
       "        text-align: right;\n",
       "    }\n",
       "</style>\n",
       "<table border=\"1\" class=\"dataframe\">\n",
       "  <thead>\n",
       "    <tr style=\"text-align: right;\">\n",
       "      <th></th>\n",
       "      <th>index_group_name</th>\n",
       "      <th>garment_group_name</th>\n",
       "      <th>n_articles</th>\n",
       "    </tr>\n",
       "  </thead>\n",
       "  <tbody>\n",
       "    <tr>\n",
       "      <th>0</th>\n",
       "      <td>Baby/Children</td>\n",
       "      <td>Jersey Fancy</td>\n",
       "      <td>9103</td>\n",
       "    </tr>\n",
       "    <tr>\n",
       "      <th>1</th>\n",
       "      <td>Ladieswear</td>\n",
       "      <td>Jersey Fancy</td>\n",
       "      <td>6163</td>\n",
       "    </tr>\n",
       "    <tr>\n",
       "      <th>2</th>\n",
       "      <td>Ladieswear</td>\n",
       "      <td>Accessories</td>\n",
       "      <td>4999</td>\n",
       "    </tr>\n",
       "    <tr>\n",
       "      <th>3</th>\n",
       "      <td>Ladieswear</td>\n",
       "      <td>Under-, Nightwear</td>\n",
       "      <td>4513</td>\n",
       "    </tr>\n",
       "    <tr>\n",
       "      <th>4</th>\n",
       "      <td>Ladieswear</td>\n",
       "      <td>Blouses</td>\n",
       "      <td>4492</td>\n",
       "    </tr>\n",
       "    <tr>\n",
       "      <th>...</th>\n",
       "      <td>...</td>\n",
       "      <td>...</td>\n",
       "      <td>...</td>\n",
       "    </tr>\n",
       "    <tr>\n",
       "      <th>67</th>\n",
       "      <td>Divided</td>\n",
       "      <td>Special Offers</td>\n",
       "      <td>148</td>\n",
       "    </tr>\n",
       "    <tr>\n",
       "      <th>68</th>\n",
       "      <td>Divided</td>\n",
       "      <td>Swimwear</td>\n",
       "      <td>76</td>\n",
       "    </tr>\n",
       "    <tr>\n",
       "      <th>69</th>\n",
       "      <td>Baby/Children</td>\n",
       "      <td>Unknown</td>\n",
       "      <td>59</td>\n",
       "    </tr>\n",
       "    <tr>\n",
       "      <th>70</th>\n",
       "      <td>Menswear</td>\n",
       "      <td>Special Offers</td>\n",
       "      <td>25</td>\n",
       "    </tr>\n",
       "    <tr>\n",
       "      <th>71</th>\n",
       "      <td>Sport</td>\n",
       "      <td>Trousers</td>\n",
       "      <td>1</td>\n",
       "    </tr>\n",
       "  </tbody>\n",
       "</table>\n",
       "<p>72 rows × 3 columns</p>\n",
       "</div>"
      ],
      "text/plain": [
       "   index_group_name garment_group_name  n_articles\n",
       "0     Baby/Children       Jersey Fancy        9103\n",
       "1        Ladieswear       Jersey Fancy        6163\n",
       "2        Ladieswear        Accessories        4999\n",
       "3        Ladieswear  Under-, Nightwear        4513\n",
       "4        Ladieswear            Blouses        4492\n",
       "..              ...                ...         ...\n",
       "67          Divided     Special Offers         148\n",
       "68          Divided           Swimwear          76\n",
       "69    Baby/Children            Unknown          59\n",
       "70         Menswear     Special Offers          25\n",
       "71            Sport           Trousers           1\n",
       "\n",
       "[72 rows x 3 columns]"
      ]
     },
     "execution_count": 38,
     "metadata": {},
     "output_type": "execute_result"
    }
   ],
   "source": [
    "%%bigquery\n",
    "SELECT \n",
    "  index_group_name, garment_group_name,\n",
    "  count(article_id) n_articles, \n",
    "FROM h_and_m.articles\n",
    "GROUP BY index_group_name, garment_group_name\n",
    "ORDER BY n_articles DESC"
   ]
  },
  {
   "cell_type": "markdown",
   "id": "df899d4b-0a20-4e08-8837-9334f20370d8",
   "metadata": {},
   "source": [
    "## Exploring the `customers` table"
   ]
  },
  {
   "cell_type": "code",
   "execution_count": 39,
   "id": "bb53329e-3198-4b39-afcf-266ac451b090",
   "metadata": {},
   "outputs": [
    {
     "name": "stderr",
     "output_type": "stream",
     "text": [
      "Query complete after 0.00s: 100%|██████████| 1/1 [00:00<00:00, 338.20query/s]                          \n",
      "Downloading: 100%|██████████| 3/3 [00:01<00:00,  1.79rows/s]\n"
     ]
    },
    {
     "data": {
      "text/html": [
       "<div>\n",
       "<style scoped>\n",
       "    .dataframe tbody tr th:only-of-type {\n",
       "        vertical-align: middle;\n",
       "    }\n",
       "\n",
       "    .dataframe tbody tr th {\n",
       "        vertical-align: top;\n",
       "    }\n",
       "\n",
       "    .dataframe thead th {\n",
       "        text-align: right;\n",
       "    }\n",
       "</style>\n",
       "<table border=\"1\" class=\"dataframe\">\n",
       "  <thead>\n",
       "    <tr style=\"text-align: right;\">\n",
       "      <th></th>\n",
       "      <th>customer_id</th>\n",
       "      <th>FN</th>\n",
       "      <th>Active</th>\n",
       "      <th>club_member_status</th>\n",
       "      <th>fashion_news_frequency</th>\n",
       "      <th>age</th>\n",
       "      <th>postal_code</th>\n",
       "    </tr>\n",
       "  </thead>\n",
       "  <tbody>\n",
       "    <tr>\n",
       "      <th>0</th>\n",
       "      <td>09a3dd9b174ce39cdfe1e8b5ec47167c8cc604928eec20...</td>\n",
       "      <td>1.0</td>\n",
       "      <td>1.0</td>\n",
       "      <td>PRE-CREATE</td>\n",
       "      <td>Monthly</td>\n",
       "      <td>65</td>\n",
       "      <td>b97439bfd3a833f9ef16537af6693c07493646d57b6191...</td>\n",
       "    </tr>\n",
       "    <tr>\n",
       "      <th>1</th>\n",
       "      <td>1608504257feb3b38b3700a081e12d2b1901c9b7d9be6d...</td>\n",
       "      <td>1.0</td>\n",
       "      <td>1.0</td>\n",
       "      <td>PRE-CREATE</td>\n",
       "      <td>Monthly</td>\n",
       "      <td>66</td>\n",
       "      <td>8fc2e6694f5b0fe6bcd212965cd9024e333e6c65473caf...</td>\n",
       "    </tr>\n",
       "    <tr>\n",
       "      <th>2</th>\n",
       "      <td>1e033264a3b552fe88bdcce44174dff8b4cfc58dad529c...</td>\n",
       "      <td>1.0</td>\n",
       "      <td>1.0</td>\n",
       "      <td>ACTIVE</td>\n",
       "      <td>Monthly</td>\n",
       "      <td>77</td>\n",
       "      <td>2df2189d6fefc69255504d4640f44adc849bd899bc2a3c...</td>\n",
       "    </tr>\n",
       "  </tbody>\n",
       "</table>\n",
       "</div>"
      ],
      "text/plain": [
       "                                         customer_id   FN  Active  \\\n",
       "0  09a3dd9b174ce39cdfe1e8b5ec47167c8cc604928eec20...  1.0     1.0   \n",
       "1  1608504257feb3b38b3700a081e12d2b1901c9b7d9be6d...  1.0     1.0   \n",
       "2  1e033264a3b552fe88bdcce44174dff8b4cfc58dad529c...  1.0     1.0   \n",
       "\n",
       "  club_member_status fashion_news_frequency  age  \\\n",
       "0         PRE-CREATE                Monthly   65   \n",
       "1         PRE-CREATE                Monthly   66   \n",
       "2             ACTIVE                Monthly   77   \n",
       "\n",
       "                                         postal_code  \n",
       "0  b97439bfd3a833f9ef16537af6693c07493646d57b6191...  \n",
       "1  8fc2e6694f5b0fe6bcd212965cd9024e333e6c65473caf...  \n",
       "2  2df2189d6fefc69255504d4640f44adc849bd899bc2a3c...  "
      ]
     },
     "execution_count": 39,
     "metadata": {},
     "output_type": "execute_result"
    }
   ],
   "source": [
    "%%bigquery\n",
    "SELECT * FROM h_and_m.customers LIMIT 3"
   ]
  },
  {
   "cell_type": "markdown",
   "id": "5ac77a1c-7c49-4e89-9d8a-bdeab1700a58",
   "metadata": {},
   "source": [
    "What is the age demographic of the customers?"
   ]
  },
  {
   "cell_type": "code",
   "execution_count": 40,
   "id": "84e5bd8f-c4ee-4ce3-bd43-59b15b5a266c",
   "metadata": {},
   "outputs": [
    {
     "name": "stderr",
     "output_type": "stream",
     "text": [
      "Query complete after 0.00s: 100%|██████████| 3/3 [00:00<00:00, 1535.63query/s]                        \n",
      "Downloading: 100%|██████████| 10/10 [00:01<00:00,  6.92rows/s]\n"
     ]
    },
    {
     "data": {
      "text/html": [
       "<div>\n",
       "<style scoped>\n",
       "    .dataframe tbody tr th:only-of-type {\n",
       "        vertical-align: middle;\n",
       "    }\n",
       "\n",
       "    .dataframe tbody tr th {\n",
       "        vertical-align: top;\n",
       "    }\n",
       "\n",
       "    .dataframe thead th {\n",
       "        text-align: right;\n",
       "    }\n",
       "</style>\n",
       "<table border=\"1\" class=\"dataframe\">\n",
       "  <thead>\n",
       "    <tr style=\"text-align: right;\">\n",
       "      <th></th>\n",
       "      <th>age</th>\n",
       "      <th>n_customers</th>\n",
       "    </tr>\n",
       "  </thead>\n",
       "  <tbody>\n",
       "    <tr>\n",
       "      <th>0</th>\n",
       "      <td>10s</td>\n",
       "      <td>71583</td>\n",
       "    </tr>\n",
       "    <tr>\n",
       "      <th>1</th>\n",
       "      <td>20s</td>\n",
       "      <td>528358</td>\n",
       "    </tr>\n",
       "    <tr>\n",
       "      <th>2</th>\n",
       "      <td>30s</td>\n",
       "      <td>234068</td>\n",
       "    </tr>\n",
       "    <tr>\n",
       "      <th>3</th>\n",
       "      <td>40s</td>\n",
       "      <td>204118</td>\n",
       "    </tr>\n",
       "    <tr>\n",
       "      <th>4</th>\n",
       "      <td>50s</td>\n",
       "      <td>226242</td>\n",
       "    </tr>\n",
       "    <tr>\n",
       "      <th>5</th>\n",
       "      <td>60s</td>\n",
       "      <td>72623</td>\n",
       "    </tr>\n",
       "    <tr>\n",
       "      <th>6</th>\n",
       "      <td>70s</td>\n",
       "      <td>17611</td>\n",
       "    </tr>\n",
       "    <tr>\n",
       "      <th>7</th>\n",
       "      <td>80s</td>\n",
       "      <td>1415</td>\n",
       "    </tr>\n",
       "    <tr>\n",
       "      <th>8</th>\n",
       "      <td>90s</td>\n",
       "      <td>101</td>\n",
       "    </tr>\n",
       "    <tr>\n",
       "      <th>9</th>\n",
       "      <td>Unknown</td>\n",
       "      <td>15861</td>\n",
       "    </tr>\n",
       "  </tbody>\n",
       "</table>\n",
       "</div>"
      ],
      "text/plain": [
       "       age  n_customers\n",
       "0      10s        71583\n",
       "1      20s       528358\n",
       "2      30s       234068\n",
       "3      40s       204118\n",
       "4      50s       226242\n",
       "5      60s        72623\n",
       "6      70s        17611\n",
       "7      80s         1415\n",
       "8      90s          101\n",
       "9  Unknown        15861"
      ]
     },
     "execution_count": 40,
     "metadata": {},
     "output_type": "execute_result"
    }
   ],
   "source": [
    "%%bigquery\n",
    "SELECT\n",
    "   CASE\n",
    "       WHEN age >= 90 THEN '90s'\n",
    "       WHEN age >= 80 THEN '80s'\n",
    "       WHEN age >= 70 THEN '70s'\n",
    "       WHEN age >= 60 THEN '60s'\n",
    "       WHEN age >= 50 THEN '50s'\n",
    "       WHEN age >= 40 THEN '40s'\n",
    "       WHEN age >= 30 THEN '30s'\n",
    "       WHEN age >= 20 THEN '20s'\n",
    "       WHEN age >= 10 THEN '10s'\n",
    "       ELSE 'Unknown'\n",
    "   END AS age,\n",
    "   count(*) AS n_customers\n",
    "FROM h_and_m.customers\n",
    "GROUP BY 1\n",
    "ORDER BY 1"
   ]
  },
  {
   "cell_type": "markdown",
   "id": "3eb71871-2a9e-4d8c-ae17-13e8cef41492",
   "metadata": {},
   "source": [
    "## Exploring the `transactions` table"
   ]
  },
  {
   "cell_type": "code",
   "execution_count": 41,
   "id": "9efa4194-7a4a-4768-97a8-e91f2619421f",
   "metadata": {},
   "outputs": [
    {
     "name": "stderr",
     "output_type": "stream",
     "text": [
      "Query complete after 0.00s: 100%|██████████| 1/1 [00:00<00:00, 513.38query/s]                          \n",
      "Downloading: 100%|██████████| 3/3 [00:01<00:00,  2.04rows/s]\n"
     ]
    },
    {
     "data": {
      "text/html": [
       "<div>\n",
       "<style scoped>\n",
       "    .dataframe tbody tr th:only-of-type {\n",
       "        vertical-align: middle;\n",
       "    }\n",
       "\n",
       "    .dataframe tbody tr th {\n",
       "        vertical-align: top;\n",
       "    }\n",
       "\n",
       "    .dataframe thead th {\n",
       "        text-align: right;\n",
       "    }\n",
       "</style>\n",
       "<table border=\"1\" class=\"dataframe\">\n",
       "  <thead>\n",
       "    <tr style=\"text-align: right;\">\n",
       "      <th></th>\n",
       "      <th>t_dat</th>\n",
       "      <th>customer_id</th>\n",
       "      <th>article_id</th>\n",
       "      <th>price</th>\n",
       "      <th>sales_channel_id</th>\n",
       "    </tr>\n",
       "  </thead>\n",
       "  <tbody>\n",
       "    <tr>\n",
       "      <th>0</th>\n",
       "      <td>2019-01-24</td>\n",
       "      <td>02354fba443ecfd9914e9f842fe8a61e7e367cf6dd7057...</td>\n",
       "      <td>189616001</td>\n",
       "      <td>0.016932</td>\n",
       "      <td>2</td>\n",
       "    </tr>\n",
       "    <tr>\n",
       "      <th>1</th>\n",
       "      <td>2019-01-24</td>\n",
       "      <td>02354fba443ecfd9914e9f842fe8a61e7e367cf6dd7057...</td>\n",
       "      <td>571706001</td>\n",
       "      <td>0.022017</td>\n",
       "      <td>2</td>\n",
       "    </tr>\n",
       "    <tr>\n",
       "      <th>2</th>\n",
       "      <td>2019-01-24</td>\n",
       "      <td>02354fba443ecfd9914e9f842fe8a61e7e367cf6dd7057...</td>\n",
       "      <td>571706001</td>\n",
       "      <td>0.022017</td>\n",
       "      <td>2</td>\n",
       "    </tr>\n",
       "  </tbody>\n",
       "</table>\n",
       "</div>"
      ],
      "text/plain": [
       "        t_dat                                        customer_id  article_id  \\\n",
       "0  2019-01-24  02354fba443ecfd9914e9f842fe8a61e7e367cf6dd7057...   189616001   \n",
       "1  2019-01-24  02354fba443ecfd9914e9f842fe8a61e7e367cf6dd7057...   571706001   \n",
       "2  2019-01-24  02354fba443ecfd9914e9f842fe8a61e7e367cf6dd7057...   571706001   \n",
       "\n",
       "      price  sales_channel_id  \n",
       "0  0.016932                 2  \n",
       "1  0.022017                 2  \n",
       "2  0.022017                 2  "
      ]
     },
     "execution_count": 41,
     "metadata": {},
     "output_type": "execute_result"
    }
   ],
   "source": [
    "%%bigquery\n",
    "SELECT * FROM h_and_m.transactions_sample LIMIT 3"
   ]
  },
  {
   "cell_type": "code",
   "execution_count": 42,
   "id": "1b4c302d-de06-4eed-9667-d368943e0902",
   "metadata": {},
   "outputs": [
    {
     "name": "stderr",
     "output_type": "stream",
     "text": [
      "Query complete after 0.00s: 100%|██████████| 2/2 [00:00<00:00, 547.24query/s]                         \n",
      "Downloading: 100%|██████████| 1/1 [00:01<00:00,  1.49s/rows]\n"
     ]
    },
    {
     "data": {
      "text/html": [
       "<div>\n",
       "<style scoped>\n",
       "    .dataframe tbody tr th:only-of-type {\n",
       "        vertical-align: middle;\n",
       "    }\n",
       "\n",
       "    .dataframe tbody tr th {\n",
       "        vertical-align: top;\n",
       "    }\n",
       "\n",
       "    .dataframe thead th {\n",
       "        text-align: right;\n",
       "    }\n",
       "</style>\n",
       "<table border=\"1\" class=\"dataframe\">\n",
       "  <thead>\n",
       "    <tr style=\"text-align: right;\">\n",
       "      <th></th>\n",
       "      <th>f0_</th>\n",
       "      <th>f1_</th>\n",
       "    </tr>\n",
       "  </thead>\n",
       "  <tbody>\n",
       "    <tr>\n",
       "      <th>0</th>\n",
       "      <td>2018-09-20</td>\n",
       "      <td>2020-09-22</td>\n",
       "    </tr>\n",
       "  </tbody>\n",
       "</table>\n",
       "</div>"
      ],
      "text/plain": [
       "          f0_         f1_\n",
       "0  2018-09-20  2020-09-22"
      ]
     },
     "execution_count": 42,
     "metadata": {},
     "output_type": "execute_result"
    }
   ],
   "source": [
    "%%bigquery\n",
    "SELECT min(t_dat), max(t_dat) FROM h_and_m.transactions_sample"
   ]
  },
  {
   "cell_type": "markdown",
   "id": "81ba1d21-7312-4d39-b65a-1998108621da",
   "metadata": {},
   "source": [
    "Top 10 customers by num of transactions:"
   ]
  },
  {
   "cell_type": "code",
   "execution_count": 43,
   "id": "eb2105e5-a7b6-4863-9834-fcb1d08203b8",
   "metadata": {},
   "outputs": [
    {
     "name": "stderr",
     "output_type": "stream",
     "text": [
      "Query complete after 0.00s: 100%|██████████| 3/3 [00:00<00:00, 929.18query/s]                         \n",
      "Downloading: 100%|██████████| 10/10 [00:01<00:00,  7.74rows/s]\n"
     ]
    },
    {
     "data": {
      "text/html": [
       "<div>\n",
       "<style scoped>\n",
       "    .dataframe tbody tr th:only-of-type {\n",
       "        vertical-align: middle;\n",
       "    }\n",
       "\n",
       "    .dataframe tbody tr th {\n",
       "        vertical-align: top;\n",
       "    }\n",
       "\n",
       "    .dataframe thead th {\n",
       "        text-align: right;\n",
       "    }\n",
       "</style>\n",
       "<table border=\"1\" class=\"dataframe\">\n",
       "  <thead>\n",
       "    <tr style=\"text-align: right;\">\n",
       "      <th></th>\n",
       "      <th>customer_id</th>\n",
       "      <th>n_transactions</th>\n",
       "    </tr>\n",
       "  </thead>\n",
       "  <tbody>\n",
       "    <tr>\n",
       "      <th>0</th>\n",
       "      <td>d80ed4ababfa96812e22b911629e6bcbf5093769051ea4...</td>\n",
       "      <td>1066</td>\n",
       "    </tr>\n",
       "    <tr>\n",
       "      <th>1</th>\n",
       "      <td>e3717b1d03c73d1cfd0f27ef09c32381aab5ca11c5aed9...</td>\n",
       "      <td>592</td>\n",
       "    </tr>\n",
       "    <tr>\n",
       "      <th>2</th>\n",
       "      <td>4e57c43d931e365659f756e5b173b79b9fdc8cbc6a5eab...</td>\n",
       "      <td>587</td>\n",
       "    </tr>\n",
       "    <tr>\n",
       "      <th>3</th>\n",
       "      <td>578e704b2c2fc32d93261b4be9d4797301518f653a9c17...</td>\n",
       "      <td>511</td>\n",
       "    </tr>\n",
       "    <tr>\n",
       "      <th>4</th>\n",
       "      <td>0d8e6c1ea7890ce90968f017361e439f4ea9091de795e9...</td>\n",
       "      <td>503</td>\n",
       "    </tr>\n",
       "    <tr>\n",
       "      <th>5</th>\n",
       "      <td>2d545e697d8cf36558c81eb56c1776cb30f893585ed21a...</td>\n",
       "      <td>479</td>\n",
       "    </tr>\n",
       "    <tr>\n",
       "      <th>6</th>\n",
       "      <td>66fc1a29a90f01fe4d9b5e6f00d3e6fc803a4b5ffafbc7...</td>\n",
       "      <td>475</td>\n",
       "    </tr>\n",
       "    <tr>\n",
       "      <th>7</th>\n",
       "      <td>392d4ed7fe2b4b6bdf61f4ef1b6f9b614ce7c7d8052c60...</td>\n",
       "      <td>456</td>\n",
       "    </tr>\n",
       "    <tr>\n",
       "      <th>8</th>\n",
       "      <td>6b5851409a9ca9c54033fea3c354b7277b369fc0e61775...</td>\n",
       "      <td>437</td>\n",
       "    </tr>\n",
       "    <tr>\n",
       "      <th>9</th>\n",
       "      <td>2fd690c02e3f0a1def03a331bfbb133f0d0790af4f013f...</td>\n",
       "      <td>437</td>\n",
       "    </tr>\n",
       "  </tbody>\n",
       "</table>\n",
       "</div>"
      ],
      "text/plain": [
       "                                         customer_id  n_transactions\n",
       "0  d80ed4ababfa96812e22b911629e6bcbf5093769051ea4...            1066\n",
       "1  e3717b1d03c73d1cfd0f27ef09c32381aab5ca11c5aed9...             592\n",
       "2  4e57c43d931e365659f756e5b173b79b9fdc8cbc6a5eab...             587\n",
       "3  578e704b2c2fc32d93261b4be9d4797301518f653a9c17...             511\n",
       "4  0d8e6c1ea7890ce90968f017361e439f4ea9091de795e9...             503\n",
       "5  2d545e697d8cf36558c81eb56c1776cb30f893585ed21a...             479\n",
       "6  66fc1a29a90f01fe4d9b5e6f00d3e6fc803a4b5ffafbc7...             475\n",
       "7  392d4ed7fe2b4b6bdf61f4ef1b6f9b614ce7c7d8052c60...             456\n",
       "8  6b5851409a9ca9c54033fea3c354b7277b369fc0e61775...             437\n",
       "9  2fd690c02e3f0a1def03a331bfbb133f0d0790af4f013f...             437"
      ]
     },
     "execution_count": 43,
     "metadata": {},
     "output_type": "execute_result"
    }
   ],
   "source": [
    "%%bigquery\n",
    "SELECT customer_id, count(*) n_transactions\n",
    "FROM h_and_m.transactions_sample\n",
    "GROUP BY customer_id\n",
    "ORDER BY n_transactions DESC\n",
    "LIMIT 10"
   ]
  },
  {
   "cell_type": "markdown",
   "id": "30cfdab7-e444-40d0-a135-9eba9818a0cd",
   "metadata": {},
   "source": [
    "Top 10 customers by revenue:"
   ]
  },
  {
   "cell_type": "code",
   "execution_count": 44,
   "id": "31e848fd-6662-4e7a-901c-e5833b5e706b",
   "metadata": {},
   "outputs": [
    {
     "name": "stderr",
     "output_type": "stream",
     "text": [
      "Query complete after 0.00s: 100%|██████████| 3/3 [00:00<00:00, 989.92query/s]                         \n",
      "Downloading: 100%|██████████| 10/10 [00:01<00:00,  6.79rows/s]\n"
     ]
    },
    {
     "data": {
      "text/html": [
       "<div>\n",
       "<style scoped>\n",
       "    .dataframe tbody tr th:only-of-type {\n",
       "        vertical-align: middle;\n",
       "    }\n",
       "\n",
       "    .dataframe tbody tr th {\n",
       "        vertical-align: top;\n",
       "    }\n",
       "\n",
       "    .dataframe thead th {\n",
       "        text-align: right;\n",
       "    }\n",
       "</style>\n",
       "<table border=\"1\" class=\"dataframe\">\n",
       "  <thead>\n",
       "    <tr style=\"text-align: right;\">\n",
       "      <th></th>\n",
       "      <th>customer_id</th>\n",
       "      <th>revenue</th>\n",
       "    </tr>\n",
       "  </thead>\n",
       "  <tbody>\n",
       "    <tr>\n",
       "      <th>0</th>\n",
       "      <td>d80ed4ababfa96812e22b911629e6bcbf5093769051ea4...</td>\n",
       "      <td>39.821627</td>\n",
       "    </tr>\n",
       "    <tr>\n",
       "      <th>1</th>\n",
       "      <td>0d8e6c1ea7890ce90968f017361e439f4ea9091de795e9...</td>\n",
       "      <td>21.904220</td>\n",
       "    </tr>\n",
       "    <tr>\n",
       "      <th>2</th>\n",
       "      <td>4e57c43d931e365659f756e5b173b79b9fdc8cbc6a5eab...</td>\n",
       "      <td>18.525424</td>\n",
       "    </tr>\n",
       "    <tr>\n",
       "      <th>3</th>\n",
       "      <td>e3717b1d03c73d1cfd0f27ef09c32381aab5ca11c5aed9...</td>\n",
       "      <td>18.267475</td>\n",
       "    </tr>\n",
       "    <tr>\n",
       "      <th>4</th>\n",
       "      <td>578e704b2c2fc32d93261b4be9d4797301518f653a9c17...</td>\n",
       "      <td>17.440424</td>\n",
       "    </tr>\n",
       "    <tr>\n",
       "      <th>5</th>\n",
       "      <td>9e6b6c5bfb5fa347204dbd93f51d84be5fa631a09226ff...</td>\n",
       "      <td>16.356339</td>\n",
       "    </tr>\n",
       "    <tr>\n",
       "      <th>6</th>\n",
       "      <td>419d24b577b25ebf4e60feb39ff0466e6d7752f8ba02d1...</td>\n",
       "      <td>15.557136</td>\n",
       "    </tr>\n",
       "    <tr>\n",
       "      <th>7</th>\n",
       "      <td>42fd70f36a393442030b07e9fbc74c9fe8aac1769be4b4...</td>\n",
       "      <td>14.417780</td>\n",
       "    </tr>\n",
       "    <tr>\n",
       "      <th>8</th>\n",
       "      <td>2fd690c02e3f0a1def03a331bfbb133f0d0790af4f013f...</td>\n",
       "      <td>14.283678</td>\n",
       "    </tr>\n",
       "    <tr>\n",
       "      <th>9</th>\n",
       "      <td>6d1d3142514e6376099fa031d1cf16b8fb7a40060d881e...</td>\n",
       "      <td>13.827407</td>\n",
       "    </tr>\n",
       "  </tbody>\n",
       "</table>\n",
       "</div>"
      ],
      "text/plain": [
       "                                         customer_id    revenue\n",
       "0  d80ed4ababfa96812e22b911629e6bcbf5093769051ea4...  39.821627\n",
       "1  0d8e6c1ea7890ce90968f017361e439f4ea9091de795e9...  21.904220\n",
       "2  4e57c43d931e365659f756e5b173b79b9fdc8cbc6a5eab...  18.525424\n",
       "3  e3717b1d03c73d1cfd0f27ef09c32381aab5ca11c5aed9...  18.267475\n",
       "4  578e704b2c2fc32d93261b4be9d4797301518f653a9c17...  17.440424\n",
       "5  9e6b6c5bfb5fa347204dbd93f51d84be5fa631a09226ff...  16.356339\n",
       "6  419d24b577b25ebf4e60feb39ff0466e6d7752f8ba02d1...  15.557136\n",
       "7  42fd70f36a393442030b07e9fbc74c9fe8aac1769be4b4...  14.417780\n",
       "8  2fd690c02e3f0a1def03a331bfbb133f0d0790af4f013f...  14.283678\n",
       "9  6d1d3142514e6376099fa031d1cf16b8fb7a40060d881e...  13.827407"
      ]
     },
     "execution_count": 44,
     "metadata": {},
     "output_type": "execute_result"
    }
   ],
   "source": [
    "%%bigquery\n",
    "SELECT customer_id, sum(price) revenue\n",
    "FROM h_and_m.transactions_sample\n",
    "GROUP BY customer_id\n",
    "ORDER BY revenue DESC\n",
    "LIMIT 10"
   ]
  },
  {
   "cell_type": "markdown",
   "id": "a4aed69d-5e0a-474b-b710-71c0b9885cdf",
   "metadata": {},
   "source": [
    "What are the top 5 `product_code` and `product_type_name`?"
   ]
  },
  {
   "cell_type": "code",
   "execution_count": 45,
   "id": "7e1f59be-0c54-4089-8747-8cc5176f2c3e",
   "metadata": {},
   "outputs": [
    {
     "name": "stderr",
     "output_type": "stream",
     "text": [
      "Query complete after 0.00s: 100%|██████████| 4/4 [00:00<00:00, 2268.72query/s]                        \n",
      "Downloading: 100%|██████████| 5/5 [00:01<00:00,  3.61rows/s]\n"
     ]
    },
    {
     "data": {
      "text/html": [
       "<div>\n",
       "<style scoped>\n",
       "    .dataframe tbody tr th:only-of-type {\n",
       "        vertical-align: middle;\n",
       "    }\n",
       "\n",
       "    .dataframe tbody tr th {\n",
       "        vertical-align: top;\n",
       "    }\n",
       "\n",
       "    .dataframe thead th {\n",
       "        text-align: right;\n",
       "    }\n",
       "</style>\n",
       "<table border=\"1\" class=\"dataframe\">\n",
       "  <thead>\n",
       "    <tr style=\"text-align: right;\">\n",
       "      <th></th>\n",
       "      <th>product_code</th>\n",
       "      <th>product_type_name</th>\n",
       "      <th>revenue</th>\n",
       "    </tr>\n",
       "  </thead>\n",
       "  <tbody>\n",
       "    <tr>\n",
       "      <th>0</th>\n",
       "      <td>706016</td>\n",
       "      <td>Trousers</td>\n",
       "      <td>63.970915</td>\n",
       "    </tr>\n",
       "    <tr>\n",
       "      <th>1</th>\n",
       "      <td>562245</td>\n",
       "      <td>Trousers</td>\n",
       "      <td>43.974288</td>\n",
       "    </tr>\n",
       "    <tr>\n",
       "      <th>2</th>\n",
       "      <td>399201</td>\n",
       "      <td>Trousers</td>\n",
       "      <td>35.710186</td>\n",
       "    </tr>\n",
       "    <tr>\n",
       "      <th>3</th>\n",
       "      <td>568601</td>\n",
       "      <td>Blazer</td>\n",
       "      <td>26.576068</td>\n",
       "    </tr>\n",
       "    <tr>\n",
       "      <th>4</th>\n",
       "      <td>554450</td>\n",
       "      <td>Trousers</td>\n",
       "      <td>24.721458</td>\n",
       "    </tr>\n",
       "  </tbody>\n",
       "</table>\n",
       "</div>"
      ],
      "text/plain": [
       "   product_code product_type_name    revenue\n",
       "0        706016          Trousers  63.970915\n",
       "1        562245          Trousers  43.974288\n",
       "2        399201          Trousers  35.710186\n",
       "3        568601            Blazer  26.576068\n",
       "4        554450          Trousers  24.721458"
      ]
     },
     "execution_count": 45,
     "metadata": {},
     "output_type": "execute_result"
    }
   ],
   "source": [
    "%%bigquery\n",
    "SELECT product_code, product_type_name, sum(price) revenue FROM\n",
    "(\n",
    "  SELECT A.*, B.product_code, B.product_type_name\n",
    "  FROM h_and_m.transactions_sample A\n",
    "  LEFT JOIN h_and_m.articles B\n",
    "  USING(article_id)\n",
    ")\n",
    "GROUP BY product_code, product_type_name\n",
    "ORDER BY revenue DESC\n",
    "LIMIT 5"
   ]
  },
  {
   "cell_type": "markdown",
   "id": "4ac0ae38-f1a8-4a81-a8f0-c400b576cef1",
   "metadata": {},
   "source": [
    "How about `product_group_name`?"
   ]
  },
  {
   "cell_type": "code",
   "execution_count": 46,
   "id": "3edc19e9-8cbf-4e59-add6-cddc8dabc31c",
   "metadata": {},
   "outputs": [
    {
     "name": "stderr",
     "output_type": "stream",
     "text": [
      "Query complete after 0.00s: 100%|██████████| 4/4 [00:00<00:00, 2182.83query/s]                        \n",
      "Downloading: 100%|██████████| 5/5 [00:01<00:00,  3.36rows/s]\n"
     ]
    },
    {
     "data": {
      "text/html": [
       "<div>\n",
       "<style scoped>\n",
       "    .dataframe tbody tr th:only-of-type {\n",
       "        vertical-align: middle;\n",
       "    }\n",
       "\n",
       "    .dataframe tbody tr th {\n",
       "        vertical-align: top;\n",
       "    }\n",
       "\n",
       "    .dataframe thead th {\n",
       "        text-align: right;\n",
       "    }\n",
       "</style>\n",
       "<table border=\"1\" class=\"dataframe\">\n",
       "  <thead>\n",
       "    <tr style=\"text-align: right;\">\n",
       "      <th></th>\n",
       "      <th>product_group_name</th>\n",
       "      <th>revenue</th>\n",
       "    </tr>\n",
       "  </thead>\n",
       "  <tbody>\n",
       "    <tr>\n",
       "      <th>0</th>\n",
       "      <td>Garment Upper body</td>\n",
       "      <td>3418.268915</td>\n",
       "    </tr>\n",
       "    <tr>\n",
       "      <th>1</th>\n",
       "      <td>Garment Lower body</td>\n",
       "      <td>2348.618763</td>\n",
       "    </tr>\n",
       "    <tr>\n",
       "      <th>2</th>\n",
       "      <td>Garment Full body</td>\n",
       "      <td>1266.220797</td>\n",
       "    </tr>\n",
       "    <tr>\n",
       "      <th>3</th>\n",
       "      <td>Swimwear</td>\n",
       "      <td>577.979271</td>\n",
       "    </tr>\n",
       "    <tr>\n",
       "      <th>4</th>\n",
       "      <td>Underwear</td>\n",
       "      <td>537.535017</td>\n",
       "    </tr>\n",
       "  </tbody>\n",
       "</table>\n",
       "</div>"
      ],
      "text/plain": [
       "   product_group_name      revenue\n",
       "0  Garment Upper body  3418.268915\n",
       "1  Garment Lower body  2348.618763\n",
       "2   Garment Full body  1266.220797\n",
       "3            Swimwear   577.979271\n",
       "4           Underwear   537.535017"
      ]
     },
     "execution_count": 46,
     "metadata": {},
     "output_type": "execute_result"
    }
   ],
   "source": [
    "%%bigquery\n",
    "SELECT product_group_name, sum(price) revenue FROM\n",
    "(\n",
    "  SELECT A.*, B.product_group_name\n",
    "  FROM h_and_m.transactions_sample A\n",
    "  LEFT JOIN h_and_m.articles B\n",
    "  USING(article_id)\n",
    ")\n",
    "GROUP BY product_group_name\n",
    "ORDER BY revenue DESC\n",
    "LIMIT 5"
   ]
  },
  {
   "cell_type": "code",
   "execution_count": null,
   "id": "88896e2d-eceb-4502-82f5-34650e3a109c",
   "metadata": {},
   "outputs": [],
   "source": []
  }
 ],
 "metadata": {
  "environment": {
   "kernel": "python3",
   "name": "common-cpu.m96",
   "type": "gcloud",
   "uri": "gcr.io/deeplearning-platform-release/base-cpu:m96"
  },
  "kernelspec": {
   "display_name": "Python 3",
   "language": "python",
   "name": "python3"
  },
  "language_info": {
   "codemirror_mode": {
    "name": "ipython",
    "version": 3
   },
   "file_extension": ".py",
   "mimetype": "text/x-python",
   "name": "python",
   "nbconvert_exporter": "python",
   "pygments_lexer": "ipython3",
   "version": "3.7.12"
  }
 },
 "nbformat": 4,
 "nbformat_minor": 5
}
